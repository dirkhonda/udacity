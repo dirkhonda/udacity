{
 "cells": [
  {
   "cell_type": "markdown",
   "metadata": {},
   "source": [
    "# Machine Learning Engineer Nanodegree\n",
    "\n",
    "## Capstone Proposal\n",
    "\n",
    "Dirk Honda\n",
    "February 9th, 2018\n"
   ]
  },
  {
   "cell_type": "markdown",
   "metadata": {},
   "source": [
    "## Domain Background\n",
    "For most individuals, home ownership is the largest and most important financial decision they will make. With approximately 64% of Americans owning a home [[*]](https://www.census.gov/housing/hvs/files/currenthvspress.pdf) determining the fair market value of a home is critical. Historically, the value of homes has been predicated on the sale of homes in the area with similar features (e.g., beds, baths, living square footage). This approach is susceptible to outliers and variances that could skew the value of homes. The Kaggle competition, [House Prices: Advanced Regression Techniques](https://www.kaggle.com/c/house-prices-advanced-regression-techniques) provides a dataset to which feature engineering, feature selection, and machine learning techniques can be applied to gain intuition and develop a model capable of producing future fair market values with greater accuracy. With over 12 years of residential real estate software experience, most dealing with this type of data, I have always been fascinated with the pricing of real estate. It is my intention to gain more real-world experience with the analysis of datasets, specifically those in real estate, as this will be invaluable to future employers."
   ]
  },
  {
   "cell_type": "markdown",
   "metadata": {},
   "source": [
    "## Problem Statement\n",
    "As stated in the domain background, house prices are generally modeled on recently sold comparable homes (sales comps). This approach is based on the opinions and experience of brokers and realtors. As such it is susceptible to fluctuations, outliers, and human bias. By applying machine learning algorithms, a more robust and accurate regression model can be developed which can be evaluated by making sale price predictions on data prior to sale and then comparing them to their respective future purchase price."
   ]
  },
  {
   "cell_type": "markdown",
   "metadata": {},
   "source": [
    "## Datasets and Inputs\n",
    "The dataset includes four text files which can be downloaded from [Kaggle](https://www.kaggle.com/c/house-prices-advanced-regression-techniques/data)\n",
    "\n",
    "File Descriptions:\n",
    "+ train.csv - the training set\n",
    "+ test.csv - the test set\n",
    "+ data_description.txt - full description of each column, originally prepared by Dean De Cock but lightly edited to match the column names used here\n",
    "+ sample_submission.csv - a benchmark submission from a linear regression on year and month of sale, lot square footage, and number of bedrooms\n",
    "\n",
    "Data Columns:\n",
    "+ SalePrice: the property's sale price in dollars. (This is our y-hat prediction)\n",
    "+ MSSubClass: The building class\n",
    "+ MSZoning: The general zoning classification\n",
    "+ LotFrontage: Linear feet of street connected to property\n",
    "+ LotArea: Lot size in square feet\n",
    "+ Street: Type of road access\n",
    "+ Alley: Type of alley access\n",
    "+ LotShape: General shape of property\n",
    "+ LandContour: Flatness of the property\n",
    "+ Utilities: Type of utilities available\n",
    "+ LotConfig: Lot configuration\n",
    "+ LandSlope: Slope of property\n",
    "+ Neighborhood: Physical locations within Ames city limits\n",
    "+ Condition1: Proximity to main road or railroad\n",
    "+ Condition2: Proximity to main road or railroad (if a second is present)\n",
    "+ BldgType: Type of dwelling\n",
    "+ HouseStyle: Style of dwelling\n",
    "+ OverallQual: Overall material and finish quality\n",
    "+ OverallCond: Overall condition rating\n",
    "+ YearBuilt: Original construction date\n",
    "+ YearRemodAdd: Remodel date\n",
    "+ RoofStyle: Type of roof\n",
    "+ RoofMatl: Roof material\n",
    "+ Exterior1st: Exterior covering on house\n",
    "+ Exterior2nd: Exterior covering on house (if more than one material)\n",
    "+ MasVnrType: Masonry veneer type\n",
    "+ MasVnrArea: Masonry veneer area in square feet\n",
    "+ ExterQual: Exterior material quality\n",
    "+ ExterCond: Present condition of the material on the exterior\n",
    "+ Foundation: Type of foundation\n",
    "+ BsmtQual: Height of the basement\n",
    "+ BsmtCond: General condition of the basement\n",
    "+ BsmtExposure: Walkout or garden level basement walls\n",
    "+ BsmtFinType1: Quality of basement finished area\n",
    "+ BsmtFinSF1: Type 1 finished square feet\n",
    "+ BsmtFinType2: Quality of second finished area (if present)\n",
    "+ BsmtFinSF2: Type 2 finished square feet\n",
    "+ BsmtUnfSF: Unfinished square feet of basement area\n",
    "+ TotalBsmtSF: Total square feet of basement area\n",
    "+ Heating: Type of heating\n",
    "+ HeatingQC: Heating quality and condition\n",
    "+ CentralAir: Central air conditioning\n",
    "+ Electrical: Electrical system\n",
    "+ 1stFlrSF: First Floor square feet\n",
    "+ 2ndFlrSF: Second floor square feet\n",
    "+ LowQualFinSF: Low quality finished square feet (all floors)\n",
    "+ GrLivArea: Above grade (ground) living area square feet\n",
    "+ BsmtFullBath: Basement full bathrooms\n",
    "+ BsmtHalfBath: Basement half bathrooms\n",
    "+ FullBath: Full bathrooms above grade\n",
    "+ HalfBath: Half baths above grade\n",
    "+ Bedroom: Number of bedrooms above basement level\n",
    "+ Kitchen: Number of kitchens\n",
    "+ KitchenQual: Kitchen quality\n",
    "+ TotRmsAbvGrd: Total rooms above grade (does not include bathrooms)\n",
    "+ Functional: Home functionality rating\n",
    "+ Fireplaces: Number of fireplaces\n",
    "+ FireplaceQu: Fireplace quality\n",
    "+ GarageType: Garage location\n",
    "+ GarageYrBlt: Year garage was built\n",
    "+ GarageFinish: Interior finish of the garage\n",
    "+ GarageCars: Size of garage in car capacity\n",
    "+ GarageArea: Size of garage in square feet\n",
    "+ GarageQual: Garage quality\n",
    "+ GarageCond: Garage condition\n",
    "+ PavedDrive: Paved driveway\n",
    "+ WoodDeckSF: Wood deck area in square feet\n",
    "+ OpenPorchSF: Open porch area in square feet\n",
    "+ EnclosedPorch: Enclosed porch area in square feet\n",
    "+ 3SsnPorch: Three season porch area in square feet\n",
    "+ ScreenPorch: Screen porch area in square feet\n",
    "+ PoolArea: Pool area in square feet\n",
    "+ PoolQC: Pool quality\n",
    "+ Fence: Fence quality\n",
    "+ MiscFeature: Miscellaneous feature not covered in other categories\n",
    "+ MiscVal: Value of miscellaneous feature\n",
    "+ MoSold: Month Sold\n",
    "+ YrSold: Year Sold\n",
    "+ SaleType: Type of sale\n",
    "+ SaleCondition: Condition of sale"
   ]
  },
  {
   "cell_type": "markdown",
   "metadata": {},
   "source": [
    "## Solution Statement\n",
    "The solution will begin with data exploration to gain intuition and understanding of the attributes and features available. Next, data cleansing will be utilized to remove outliers, correct missing or null values from the training set. Additional analysis will be performed with statistical data visualizations with seaborn. These visualizations should aid in the selection of features which will be used as dimensions of the following machine learning models: linear regression, SVM, Decision Tree, Random Forest, and XGBoost. After training each model, the model will be evaluated by RMSE between the logarithm of the predicted value and the logarithm of the observed sales price. The algorithms will then be tuned with grid search of hyperparameters. After repeating and refining the scores, a csv file will be submitted for official evaluation against an unknown dataset on [Kaggle](https://www.kaggle.com/c/house-prices-advanced-regression-techniques/submit). Submissions will be evaluated by RMSE between the logarithm of the predicted value and the logarithm of the observed sales price.\n",
    "\n"
   ]
  },
  {
   "cell_type": "markdown",
   "metadata": {},
   "source": [
    "## Benchmark Model\n",
    "The benchmark will be a RMSE of 0.43045 which was obtained by taking the mean of all the properties in the dataset and using that value for all records. Ultimately, the goal is to improve this score and rank in the top 20% of the public leaderboard on [Kaggle](https://www.kaggle.com/c/house-prices-advanced-regression-techniques/leaderboard). In order to rank successfully in the top 20% the submission would require a RMSE of 0.12049.\n"
   ]
  },
  {
   "cell_type": "markdown",
   "metadata": {},
   "source": [
    "## Evaluation Metrics\n",
    "The objective of this Kaggle competition is to predict the sales price for each house in the dataset and submit the results for evaluation on the Kaggle.com website. Submissions are evaluated on Root-Mean-Squared-Error (RMSE) between the logarithm of the predicted value and the logarithm of the observed sales price. (Taking logs means that errors in predicting expensive houses and cheap houses will affect the result equally.)[[*]](https://www.kaggle.com/c/house-prices-advanced-regression-techniques#evaluation)\n",
    "\n",
    "![RMSE](https://cdn-images-1.medium.com/max/1600/1*9hQVcasuwx5ddq_s3MFCyw.gif)\n"
   ]
  },
  {
   "cell_type": "markdown",
   "metadata": {},
   "source": [
    "## Project Design\n",
    "An iterative approach will be taken with the steps listed below:\n",
    "+ Data Exploration: Familiarize myself with the data through an explorative process including statistical analysis and data visualization.\n",
    "+ Data Cleansing: Remove outliers, fill null values with mean, one hot encode categorical values, check relevance of every feature to the target feature.\n",
    "+ Train Model: Train several supervised machine learning models and tune with techniques such as cross validation and GridSearchCV.\n",
    "+ Test Model And Optimize: Optimize the model offline with the test dataset until satisifactory RMSE is achieved.\n",
    "+ Submit: Finally submit results to Kaggle for evaluation.\n",
    "+ Repeat as needed to meet appropriate benchmark.\n"
   ]
  }
 ],
 "metadata": {
  "kernelspec": {
   "display_name": "Python 3",
   "language": "python",
   "name": "python3"
  },
  "language_info": {
   "codemirror_mode": {
    "name": "ipython",
    "version": 3
   },
   "file_extension": ".py",
   "mimetype": "text/x-python",
   "name": "python",
   "nbconvert_exporter": "python",
   "pygments_lexer": "ipython3",
   "version": "3.6.3"
  }
 },
 "nbformat": 4,
 "nbformat_minor": 2
}
